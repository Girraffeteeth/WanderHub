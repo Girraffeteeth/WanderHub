{
  "cells": [
    {
      "cell_type": "markdown",
      "metadata": {
        "id": "view-in-github",
        "colab_type": "text"
      },
      "source": [
        "<a href=\"https://colab.research.google.com/github/Girraffeteeth/WanderHub/blob/main/WanderHub_(Counterfactual_Implementation).ipynb\" target=\"_parent\"><img src=\"https://colab.research.google.com/assets/colab-badge.svg\" alt=\"Open In Colab\"/></a>"
      ]
    },
    {
      "cell_type": "code",
      "execution_count": null,
      "metadata": {
        "id": "gFAcI_zP3t64"
      },
      "outputs": [],
      "source": [
        "import pandas as pd\n",
        "import numpy as np\n"
      ]
    },
    {
      "cell_type": "code",
      "execution_count": null,
      "metadata": {
        "id": "KmiFg9Ctcepu"
      },
      "outputs": [],
      "source": []
    },
    {
      "cell_type": "code",
      "execution_count": null,
      "metadata": {
        "id": "e8ESnuyacym0",
        "colab": {
          "base_uri": "https://localhost:8080/",
          "height": 287
        },
        "outputId": "eb7d8e10-d28a-46fc-c465-a265cb17cb4d"
      },
      "outputs": [
        {
          "output_type": "error",
          "ename": "FileNotFoundError",
          "evalue": "[Errno 2] No such file or directory: '/content/tourism_dataset_south_india.csv'",
          "traceback": [
            "\u001b[0;31m---------------------------------------------------------------------------\u001b[0m",
            "\u001b[0;31mFileNotFoundError\u001b[0m                         Traceback (most recent call last)",
            "\u001b[0;32m<ipython-input-3-eb85c542613a>\u001b[0m in \u001b[0;36m<cell line: 1>\u001b[0;34m()\u001b[0m\n\u001b[0;32m----> 1\u001b[0;31m \u001b[0mhotels\u001b[0m \u001b[0;34m=\u001b[0m \u001b[0mpd\u001b[0m\u001b[0;34m.\u001b[0m\u001b[0mread_csv\u001b[0m\u001b[0;34m(\u001b[0m\u001b[0;34m'/content/tourism_dataset_south_india.csv'\u001b[0m\u001b[0;34m)\u001b[0m\u001b[0;34m\u001b[0m\u001b[0;34m\u001b[0m\u001b[0m\n\u001b[0m",
            "\u001b[0;32m/usr/local/lib/python3.10/dist-packages/pandas/io/parsers/readers.py\u001b[0m in \u001b[0;36mread_csv\u001b[0;34m(filepath_or_buffer, sep, delimiter, header, names, index_col, usecols, dtype, engine, converters, true_values, false_values, skipinitialspace, skiprows, skipfooter, nrows, na_values, keep_default_na, na_filter, verbose, skip_blank_lines, parse_dates, infer_datetime_format, keep_date_col, date_parser, date_format, dayfirst, cache_dates, iterator, chunksize, compression, thousands, decimal, lineterminator, quotechar, quoting, doublequote, escapechar, comment, encoding, encoding_errors, dialect, on_bad_lines, delim_whitespace, low_memory, memory_map, float_precision, storage_options, dtype_backend)\u001b[0m\n\u001b[1;32m   1024\u001b[0m     \u001b[0mkwds\u001b[0m\u001b[0;34m.\u001b[0m\u001b[0mupdate\u001b[0m\u001b[0;34m(\u001b[0m\u001b[0mkwds_defaults\u001b[0m\u001b[0;34m)\u001b[0m\u001b[0;34m\u001b[0m\u001b[0;34m\u001b[0m\u001b[0m\n\u001b[1;32m   1025\u001b[0m \u001b[0;34m\u001b[0m\u001b[0m\n\u001b[0;32m-> 1026\u001b[0;31m     \u001b[0;32mreturn\u001b[0m \u001b[0m_read\u001b[0m\u001b[0;34m(\u001b[0m\u001b[0mfilepath_or_buffer\u001b[0m\u001b[0;34m,\u001b[0m \u001b[0mkwds\u001b[0m\u001b[0;34m)\u001b[0m\u001b[0;34m\u001b[0m\u001b[0;34m\u001b[0m\u001b[0m\n\u001b[0m\u001b[1;32m   1027\u001b[0m \u001b[0;34m\u001b[0m\u001b[0m\n\u001b[1;32m   1028\u001b[0m \u001b[0;34m\u001b[0m\u001b[0m\n",
            "\u001b[0;32m/usr/local/lib/python3.10/dist-packages/pandas/io/parsers/readers.py\u001b[0m in \u001b[0;36m_read\u001b[0;34m(filepath_or_buffer, kwds)\u001b[0m\n\u001b[1;32m    618\u001b[0m \u001b[0;34m\u001b[0m\u001b[0m\n\u001b[1;32m    619\u001b[0m     \u001b[0;31m# Create the parser.\u001b[0m\u001b[0;34m\u001b[0m\u001b[0;34m\u001b[0m\u001b[0m\n\u001b[0;32m--> 620\u001b[0;31m     \u001b[0mparser\u001b[0m \u001b[0;34m=\u001b[0m \u001b[0mTextFileReader\u001b[0m\u001b[0;34m(\u001b[0m\u001b[0mfilepath_or_buffer\u001b[0m\u001b[0;34m,\u001b[0m \u001b[0;34m**\u001b[0m\u001b[0mkwds\u001b[0m\u001b[0;34m)\u001b[0m\u001b[0;34m\u001b[0m\u001b[0;34m\u001b[0m\u001b[0m\n\u001b[0m\u001b[1;32m    621\u001b[0m \u001b[0;34m\u001b[0m\u001b[0m\n\u001b[1;32m    622\u001b[0m     \u001b[0;32mif\u001b[0m \u001b[0mchunksize\u001b[0m \u001b[0;32mor\u001b[0m \u001b[0miterator\u001b[0m\u001b[0;34m:\u001b[0m\u001b[0;34m\u001b[0m\u001b[0;34m\u001b[0m\u001b[0m\n",
            "\u001b[0;32m/usr/local/lib/python3.10/dist-packages/pandas/io/parsers/readers.py\u001b[0m in \u001b[0;36m__init__\u001b[0;34m(self, f, engine, **kwds)\u001b[0m\n\u001b[1;32m   1618\u001b[0m \u001b[0;34m\u001b[0m\u001b[0m\n\u001b[1;32m   1619\u001b[0m         \u001b[0mself\u001b[0m\u001b[0;34m.\u001b[0m\u001b[0mhandles\u001b[0m\u001b[0;34m:\u001b[0m \u001b[0mIOHandles\u001b[0m \u001b[0;34m|\u001b[0m \u001b[0;32mNone\u001b[0m \u001b[0;34m=\u001b[0m \u001b[0;32mNone\u001b[0m\u001b[0;34m\u001b[0m\u001b[0;34m\u001b[0m\u001b[0m\n\u001b[0;32m-> 1620\u001b[0;31m         \u001b[0mself\u001b[0m\u001b[0;34m.\u001b[0m\u001b[0m_engine\u001b[0m \u001b[0;34m=\u001b[0m \u001b[0mself\u001b[0m\u001b[0;34m.\u001b[0m\u001b[0m_make_engine\u001b[0m\u001b[0;34m(\u001b[0m\u001b[0mf\u001b[0m\u001b[0;34m,\u001b[0m \u001b[0mself\u001b[0m\u001b[0;34m.\u001b[0m\u001b[0mengine\u001b[0m\u001b[0;34m)\u001b[0m\u001b[0;34m\u001b[0m\u001b[0;34m\u001b[0m\u001b[0m\n\u001b[0m\u001b[1;32m   1621\u001b[0m \u001b[0;34m\u001b[0m\u001b[0m\n\u001b[1;32m   1622\u001b[0m     \u001b[0;32mdef\u001b[0m \u001b[0mclose\u001b[0m\u001b[0;34m(\u001b[0m\u001b[0mself\u001b[0m\u001b[0;34m)\u001b[0m \u001b[0;34m->\u001b[0m \u001b[0;32mNone\u001b[0m\u001b[0;34m:\u001b[0m\u001b[0;34m\u001b[0m\u001b[0;34m\u001b[0m\u001b[0m\n",
            "\u001b[0;32m/usr/local/lib/python3.10/dist-packages/pandas/io/parsers/readers.py\u001b[0m in \u001b[0;36m_make_engine\u001b[0;34m(self, f, engine)\u001b[0m\n\u001b[1;32m   1878\u001b[0m                 \u001b[0;32mif\u001b[0m \u001b[0;34m\"b\"\u001b[0m \u001b[0;32mnot\u001b[0m \u001b[0;32min\u001b[0m \u001b[0mmode\u001b[0m\u001b[0;34m:\u001b[0m\u001b[0;34m\u001b[0m\u001b[0;34m\u001b[0m\u001b[0m\n\u001b[1;32m   1879\u001b[0m                     \u001b[0mmode\u001b[0m \u001b[0;34m+=\u001b[0m \u001b[0;34m\"b\"\u001b[0m\u001b[0;34m\u001b[0m\u001b[0;34m\u001b[0m\u001b[0m\n\u001b[0;32m-> 1880\u001b[0;31m             self.handles = get_handle(\n\u001b[0m\u001b[1;32m   1881\u001b[0m                 \u001b[0mf\u001b[0m\u001b[0;34m,\u001b[0m\u001b[0;34m\u001b[0m\u001b[0;34m\u001b[0m\u001b[0m\n\u001b[1;32m   1882\u001b[0m                 \u001b[0mmode\u001b[0m\u001b[0;34m,\u001b[0m\u001b[0;34m\u001b[0m\u001b[0;34m\u001b[0m\u001b[0m\n",
            "\u001b[0;32m/usr/local/lib/python3.10/dist-packages/pandas/io/common.py\u001b[0m in \u001b[0;36mget_handle\u001b[0;34m(path_or_buf, mode, encoding, compression, memory_map, is_text, errors, storage_options)\u001b[0m\n\u001b[1;32m    871\u001b[0m         \u001b[0;32mif\u001b[0m \u001b[0mioargs\u001b[0m\u001b[0;34m.\u001b[0m\u001b[0mencoding\u001b[0m \u001b[0;32mand\u001b[0m \u001b[0;34m\"b\"\u001b[0m \u001b[0;32mnot\u001b[0m \u001b[0;32min\u001b[0m \u001b[0mioargs\u001b[0m\u001b[0;34m.\u001b[0m\u001b[0mmode\u001b[0m\u001b[0;34m:\u001b[0m\u001b[0;34m\u001b[0m\u001b[0;34m\u001b[0m\u001b[0m\n\u001b[1;32m    872\u001b[0m             \u001b[0;31m# Encoding\u001b[0m\u001b[0;34m\u001b[0m\u001b[0;34m\u001b[0m\u001b[0m\n\u001b[0;32m--> 873\u001b[0;31m             handle = open(\n\u001b[0m\u001b[1;32m    874\u001b[0m                 \u001b[0mhandle\u001b[0m\u001b[0;34m,\u001b[0m\u001b[0;34m\u001b[0m\u001b[0;34m\u001b[0m\u001b[0m\n\u001b[1;32m    875\u001b[0m                 \u001b[0mioargs\u001b[0m\u001b[0;34m.\u001b[0m\u001b[0mmode\u001b[0m\u001b[0;34m,\u001b[0m\u001b[0;34m\u001b[0m\u001b[0;34m\u001b[0m\u001b[0m\n",
            "\u001b[0;31mFileNotFoundError\u001b[0m: [Errno 2] No such file or directory: '/content/tourism_dataset_south_india.csv'"
          ]
        }
      ],
      "source": [
        "hotels = pd.read_csv('/content/tourism_dataset_south_india.csv')"
      ]
    },
    {
      "cell_type": "code",
      "execution_count": null,
      "metadata": {
        "id": "SGlCKiNIrpOZ"
      },
      "outputs": [],
      "source": [
        "# User profiling\n",
        "user_profiles = {}\n",
        "\n",
        "def create_profile():\n",
        "    name = input(\"Enter your name: \")\n",
        "    preferences = {\n",
        "        'destination': input(\"Enter your preferred destination: \"),\n",
        "        'budget': float(input(\"Enter your budget: \")),\n",
        "        'rating': float(input(\"Enter your preferred rating: \")),\n",
        "        'amenities': input(\"Enter your preferred amenities (separate by comma): \").split(',')\n",
        "    }\n",
        "    user_profiles[name] = preferences\n",
        "    print(\"User profile created:\")\n",
        "    print(user_profiles)"
      ]
    },
    {
      "cell_type": "code",
      "execution_count": null,
      "metadata": {
        "id": "D8aGkRSxn099"
      },
      "outputs": [],
      "source": [
        "# Define a function to get hotel recommendations\n",
        "def get_recommendations(destination, budget, rating, amenities):\n",
        "    # Filter hotels based on destination, budget, and rating\n",
        "    filtered_hotels = hotels[(hotels['destination'] == destination) & (hotels['price'] <= budget) & (hotels['rating'] >= rating)]\n",
        "\n",
        "    # Find hotels with similar amenities\n",
        "    if len(amenities) >= 3:\n",
        "        similar_hotels = filtered_hotels[\n",
        "            filtered_hotels['amenities'].str.contains(amenities[0]) |\n",
        "            filtered_hotels['amenities'].str.contains(amenities[1]) |\n",
        "            filtered_hotels['amenities'].str.contains(amenities[2])\n",
        "        ]\n",
        "    elif len(amenities) == 2:\n",
        "        similar_hotels = filtered_hotels[\n",
        "            filtered_hotels['amenities'].str.contains(amenities[0]) |\n",
        "            filtered_hotels['amenities'].str.contains(amenities[1])\n",
        "        ]\n",
        "    elif len(amenities) == 1:\n",
        "        similar_hotels = filtered_hotels[\n",
        "            filtered_hotels['amenities'].str.contains(amenities[0])\n",
        "        ]\n",
        "    else:\n",
        "        similar_hotels = filtered_hotels\n",
        "\n",
        "    # Return hotel details\n",
        "    return similar_hotels[['hotel_name', 'price', 'rating', 'amenities']]"
      ]
    },
    {
      "cell_type": "code",
      "execution_count": null,
      "metadata": {
        "id": "7AvCFD1BrufV"
      },
      "outputs": [],
      "source": [
        "def get_personalized_recommendations(name):\n",
        "    if name in user_profiles:\n",
        "        preferences = user_profiles[name]\n",
        "        recommendations = get_recommendations(preferences['destination'], preferences['budget'], preferences['rating'], preferences['amenities'])\n",
        "        return {\n",
        "            'profile': preferences,\n",
        "            'recommendations': recommendations\n",
        "        }\n",
        "    else:\n",
        "        return None"
      ]
    },
    {
      "cell_type": "code",
      "execution_count": null,
      "metadata": {
        "colab": {
          "base_uri": "https://localhost:8080/"
        },
        "id": "rmr7jgdxc6Yz",
        "outputId": "015f6241-e15a-498a-ba7b-9c9a367c4e8a"
      },
      "outputs": [
        {
          "output_type": "stream",
          "name": "stdout",
          "text": [
            "1. Create profile\n",
            "2. Get personalized recommendations\n",
            "3. Get counterfactual recommendations\n",
            "4. Exit\n",
            "Enter your choice: 1\n",
            "Enter your name: Tanmayi\n",
            "Enter your preferred destination: Madurai\n",
            "Enter your budget: 500\n",
            "Enter your preferred rating: 4.0\n",
            "Enter your preferred amenities (separate by comma): restaurant, fitness center\n",
            "User profile created:\n",
            "{'Tanmayi': {'destination': 'Madurai', 'budget': 500.0, 'rating': 4.0, 'amenities': ['restaurant', ' fitness center']}}\n",
            "1. Create profile\n",
            "2. Get personalized recommendations\n",
            "3. Get counterfactual recommendations\n",
            "4. Exit\n",
            "Enter your choice: 2\n",
            "Enter your name: Tanmayi\n",
            "Recommendations for Tanmayi\n",
            "Based on your profile:\n",
            "Name: Tanmayi\n",
            "Profile: {'destination': 'Madurai', 'budget': 500.0, 'rating': 4.0, 'amenities': ['restaurant', ' fitness center']}\n",
            "Recommendations:\n",
            "     hotel_name  price  rating                  amenities\n",
            "6  Ocean Breeze    480     4.8  fitness center,restaurant\n",
            "Did you find the hotel you're looking for? (yes/no): yes\n",
            "Great! We're glad we could help.\n",
            "1. Create profile\n",
            "2. Get personalized recommendations\n",
            "3. Get counterfactual recommendations\n",
            "4. Exit\n",
            "Enter your choice: 3\n",
            "Enter your destination: Madurai\n",
            "Enter your budget: 500\n",
            "Enter your preferred rating: 3\n",
            "Choose your preferred amenities (separate by comma):\n",
            "pool\n",
            "fitness center\n",
            "free wifi\n",
            "restaurant\n",
            "bar\n",
            "spa\n",
            "free breakfast\n",
            "Enter your choice (e.g., pool, fitness center, free wifi, restaurant, bar, spa, free breakfast): restaurant\n",
            "Recommendations:\n",
            "      hotel_name  price  rating  \\\n",
            "6   Ocean Breeze    480     4.8   \n",
            "9   Ocean Breeze    380     3.3   \n",
            "47    Palm Grove    460     3.1   \n",
            "48  The Pinnacle    480     3.8   \n",
            "\n",
            "                                            amenities  \n",
            "6                           fitness center,restaurant  \n",
            "9                      restaurant,pool,fitness center  \n",
            "47  fitness center,free wifi,free breakfast,pool,r...  \n",
            "48           free wifi,fitness center,restaurant,pool  \n",
            "\n",
            "Counterfactual Recommendations (What-if scenarios):\n",
            "   destination        hotel_name  price  rating  \\\n",
            "10     Madurai  The Royal Suites    630     4.8   \n",
            "\n",
            "                                            amenities  \n",
            "10  pool,fitness center,free breakfast,free wifi,r...  \n",
            "1. Create profile\n",
            "2. Get personalized recommendations\n",
            "3. Get counterfactual recommendations\n",
            "4. Exit\n",
            "Enter your choice: 4\n",
            "Exiting program. Goodbye!\n"
          ]
        }
      ],
      "source": [
        "# Main program\n",
        "while True:\n",
        "    print(\"1. Create profile\")\n",
        "    print(\"2. Get personalized recommendations\")\n",
        "    print(\"3. Get counterfactual recommendations\")\n",
        "    print(\"4. Exit\")\n",
        "    choice = input(\"Enter your choice: \")\n",
        "    if choice == '1':\n",
        "        create_profile()\n",
        "    elif choice == '2':\n",
        "      name = input(\"Enter your name: \")\n",
        "      recommendations = get_personalized_recommendations(name)\n",
        "      if recommendations is not None:\n",
        "          print(\"Recommendations for\", name)\n",
        "          print(\"Based on your profile:\")\n",
        "          print(\"Name:\", name)\n",
        "          # Assuming 'get_personalized_recommendations' returns a dictionary with 'recommendations' and 'profile' keys\n",
        "          print(\"Profile:\", recommendations['profile'])\n",
        "          print(\"Recommendations:\")\n",
        "          print(recommendations['recommendations'])\n",
        "          response = input(\"Did you find the hotel you're looking for? (yes/no): \")\n",
        "          if response.lower() == 'yes':\n",
        "              print(\"Great! We're glad we could help.\")\n",
        "          else:\n",
        "              print(\"Sorry to hear that. We'll keep working to improve our recommendations.\")\n",
        "      else:\n",
        "          print(\"Profile not found\")\n",
        "    elif choice == '3':\n",
        "            # Get user input\n",
        "            destination = input(\"Enter your destination: \")\n",
        "            budget = float(input(\"Enter your budget: \"))\n",
        "            rating = float(input(\"Enter your preferred rating: \"))\n",
        "\n",
        "            # List of amenities to choose from\n",
        "            amenities_options = [\"pool\", \"fitness center\", \"free wifi\", \"restaurant\", \"bar\", \"spa\", \"free breakfast\"]\n",
        "\n",
        "            print(\"Choose your preferred amenities (separate by comma):\")\n",
        "            for amenity in amenities_options:\n",
        "                print(amenity)\n",
        "\n",
        "            amenities_choice = input(\"Enter your choice (e.g., pool, fitness center, free wifi, restaurant, bar, spa, free breakfast): \")\n",
        "            amenities = [i.strip() for i in amenities_choice.split(\",\")]\n",
        "\n",
        "            # Get recommendations\n",
        "            recommendations = get_recommendations(destination, budget, rating, amenities)\n",
        "\n",
        "            # Print recommendations\n",
        "            print(\"Recommendations:\")\n",
        "            print(recommendations)\n",
        "\n",
        "            # Counterfactual recommendations\n",
        "            what_if_budget_range = [budget * 1.2, budget * 2]  # 20% to 100% increase in budget\n",
        "            what_if_rating_range = [rating - 2, rating + 2]  # +- 2 rating\n",
        "\n",
        "            # Get counterfactual recommendations\n",
        "            counterfactual_recommendations = hotels[\n",
        "                (hotels['destination'] == destination) &\n",
        "                (hotels['price'] >= what_if_budget_range[0]) &\n",
        "                (hotels['price'] <= what_if_budget_range[1]) &\n",
        "                (hotels['rating'] >= what_if_rating_range[0]) &\n",
        "                (hotels['rating'] <= what_if_rating_range[1])\n",
        "            ]\n",
        "\n",
        "            print(\"\\nCounterfactual Recommendations (What-if scenarios):\")\n",
        "            print(counterfactual_recommendations)\n",
        "\n",
        "    elif choice == '4':\n",
        "        print(\"Exiting program. Goodbye!\")\n",
        "        break\n",
        "    else:\n",
        "        print(\"Invalid choice. Please try again.\")"
      ]
    }
  ],
  "metadata": {
    "colab": {
      "provenance": [],
      "include_colab_link": true
    },
    "kernelspec": {
      "display_name": "Python 3",
      "name": "python3"
    },
    "language_info": {
      "name": "python"
    }
  },
  "nbformat": 4,
  "nbformat_minor": 0
}